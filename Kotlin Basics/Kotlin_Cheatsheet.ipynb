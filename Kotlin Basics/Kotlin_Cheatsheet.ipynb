{
  "nbformat": 4,
  "nbformat_minor": 0,
  "metadata": {
    "colab": {
      "provenance": []
    },
    "kernelspec": {
      "name": "python3",
      "display_name": "Python 3"
    },
    "language_info": {
      "name": "python"
    }
  },
  "cells": [
    {
      "cell_type": "markdown",
      "source": [
        "# Kotlin Cheatsheet"
      ],
      "metadata": {
        "id": "4CYoryrZOpZ5"
      }
    },
    {
      "cell_type": "markdown",
      "source": [],
      "metadata": {
        "id": "S2cccqkEOxNO"
      }
    },
    {
      "cell_type": "code",
      "source": [
        "fun main() {\n",
        "  println(\"Greetings, QuickRef.ME!\")\n",
        "  // Code goes here\n",
        "}"
      ],
      "metadata": {
        "id": "6T3HyPjSO0yj"
      },
      "execution_count": null,
      "outputs": []
    },
    {
      "cell_type": "markdown",
      "source": [
        "The main() function is the starting point of every Kotlin program and must be included before execution."
      ],
      "metadata": {
        "id": "w4TUKX0tO2ZY"
      }
    },
    {
      "cell_type": "markdown",
      "source": [
        "## Print statements"
      ],
      "metadata": {
        "id": "e3KFhMNxO5r_"
      }
    },
    {
      "cell_type": "code",
      "source": [
        "println(\"Greetings, earthling!\")\n",
        "print(\"Take me to \")\n",
        "print(\"your leader.\")"
      ],
      "metadata": {
        "id": "n-Qfm5mQPAcb"
      },
      "execution_count": null,
      "outputs": []
    },
    {
      "cell_type": "markdown",
      "source": [
        "Output:\n",
        "\n",
        "Greetings, earthling!\n",
        "Take me to your leader."
      ],
      "metadata": {
        "id": "UO9kqsOLPCb5"
      }
    },
    {
      "cell_type": "markdown",
      "source": [
        "## Comments / Notes"
      ],
      "metadata": {
        "id": "kjIOcqhLPFJ3"
      }
    },
    {
      "cell_type": "code",
      "source": [
        "// this is a single line comment\n",
        "\n",
        "/*\n",
        "this\n",
        "is a\n",
        "multi-line\n",
        "comment\n",
        "*/"
      ],
      "metadata": {
        "id": "IQx7TPKxPH46"
      },
      "execution_count": null,
      "outputs": []
    },
    {
      "cell_type": "markdown",
      "source": [
        "## Execution order"
      ],
      "metadata": {
        "id": "LrSrD8lPPKWG"
      }
    },
    {
      "cell_type": "code",
      "source": [
        "fun main() {\n",
        "  println(\"I will be printed first.\")\n",
        "  println(\"I will be printed second.\")\n",
        "  println(\"I will be printed third.\")\n",
        "}"
      ],
      "metadata": {
        "id": "QCh3oCvqPNRA"
      },
      "execution_count": null,
      "outputs": []
    },
    {
      "cell_type": "markdown",
      "source": [
        "## Data Types & Variables"
      ],
      "metadata": {
        "id": "CUcBXe3gPRHU"
      }
    },
    {
      "cell_type": "code",
      "source": [
        "//Mutable variables\n",
        "var age = 25\n",
        "age = 26"
      ],
      "metadata": {
        "id": "lwjInwhcPS-s"
      },
      "execution_count": null,
      "outputs": []
    },
    {
      "cell_type": "code",
      "source": [
        "//Immutable variables\n",
        "val goldenRatio = 1.618"
      ],
      "metadata": {
        "id": "iNumgeBxPX9a"
      },
      "execution_count": null,
      "outputs": []
    },
    {
      "cell_type": "markdown",
      "source": [
        "## Type inference\n",
        "The compiler infers types from assigned values:"
      ],
      "metadata": {
        "id": "m_TCH4xWPbxk"
      }
    },
    {
      "cell_type": "code",
      "source": [
        "var color = \"Purple\""
      ],
      "metadata": {
        "id": "MhEAR6Q5PlQv"
      },
      "execution_count": null,
      "outputs": []
    },
    {
      "cell_type": "markdown",
      "source": [
        "## String concatenation"
      ],
      "metadata": {
        "id": "OjGS86elPmYP"
      }
    },
    {
      "cell_type": "code",
      "source": [
        "var streetAddress = \"123 Main St.\"\n",
        "var cityState     = \"Brooklyn, NY\"\n",
        "println(streetAddress + \" \" + cityState)\n",
        "// Print: 123 Main St. Brooklyn, NY"
      ],
      "metadata": {
        "id": "1j1lFwaSPo5C"
      },
      "execution_count": null,
      "outputs": []
    },
    {
      "cell_type": "markdown",
      "source": [
        "## String templates"
      ],
      "metadata": {
        "id": "X2E2gT_aP1Yt"
      }
    },
    {
      "cell_type": "code",
      "source": [
        "var address = \"123 Main St.\"\n",
        "println(\"The address is $address\")\n",
        "// prints: The address is 123 Main St."
      ],
      "metadata": {
        "id": "Ssxo0nxYP2aj"
      },
      "execution_count": null,
      "outputs": []
    },
    {
      "cell_type": "markdown",
      "source": [
        "## Built‑in properties & functions"
      ],
      "metadata": {
        "id": "SYac6Q-oP6dG"
      }
    },
    {
      "cell_type": "code",
      "source": [
        "var monument = \"the Statue of Liberty\"\n",
        "println(monument.capitalize())\n",
        "// print: The Statue of Liberty\n",
        "println(monument.length)\n",
        "// print: 21"
      ],
      "metadata": {
        "id": "kTjke7koP8g5"
      },
      "execution_count": null,
      "outputs": []
    },
    {
      "cell_type": "markdown",
      "source": [
        "## Character escapes"
      ],
      "metadata": {
        "id": "jQA0rz4NQA0Z"
      }
    },
    {
      "cell_type": "code",
      "source": [
        "print(\"\\\"Excellent!\\\" I cried. \\\"Elementary,\\\" said he.\")\n",
        "// Print: \"Excellent!\" I cried. \"Elementary,\" said he."
      ],
      "metadata": {
        "id": "r1W0lDgRQBzp"
      },
      "execution_count": null,
      "outputs": []
    },
    {
      "cell_type": "markdown",
      "source": [
        "### Escape sequences:"
      ],
      "metadata": {
        "id": "U-V8te-mQE_O"
      }
    },
    {
      "cell_type": "markdown",
      "source": [
        "\\n – new line\n",
        "\n",
        "\\t – tab\n",
        "\n",
        "\\r – carriage return\n",
        "\n",
        "\\' – single quote\n",
        "\n",
        "\\\" – double quote\n",
        "\n",
        "\\\\ – backslash\n",
        "\n",
        "\\$ – dollar sign"
      ],
      "metadata": {
        "id": "S7lkLw5AQJl-"
      }
    },
    {
      "cell_type": "markdown",
      "source": [
        "## Arithmetic operators"
      ],
      "metadata": {
        "id": "CQs-pU54QRnS"
      }
    },
    {
      "cell_type": "code",
      "source": [
        "5 + 7   // 12\n",
        "9 - 2    // 7\n",
        "8 * 4    // 32\n",
        "25 / 5   // 5\n",
        "31 % 2   // 1"
      ],
      "metadata": {
        "id": "kRxz5RJGQHOf"
      },
      "execution_count": null,
      "outputs": []
    },
    {
      "cell_type": "markdown",
      "source": [
        "## Operators: +, -, *, /, %"
      ],
      "metadata": {
        "id": "KDlEN-bqQV2U"
      }
    },
    {
      "cell_type": "markdown",
      "source": [
        "## Order of operations"
      ],
      "metadata": {
        "id": "7owH8JwtQZuU"
      }
    },
    {
      "cell_type": "code",
      "source": [
        "5 + 8 * 2 / 4 - 3   // 6\n",
        "3 + (4 + 4) / 2        // 7\n",
        "4 * 2 + 1 * 7          // 15\n",
        "3 + 18 / 2 * 1         // 12\n",
        "6 - 3 % 2 + 2          // 7"
      ],
      "metadata": {
        "id": "2tK0pZJ-QeHE"
      },
      "execution_count": null,
      "outputs": []
    },
    {
      "cell_type": "markdown",
      "source": [
        "## Enhanced assignment operator"
      ],
      "metadata": {
        "id": "7DwEyu23Qfay"
      }
    },
    {
      "cell_type": "code",
      "source": [
        "var batteryPercentage = 80\n",
        "\n",
        "// long syntax\n",
        "batteryPercentage = batteryPercentage + 10\n",
        "\n",
        "// short syntax (augmented assignment)\n",
        "batteryPercentage += 10"
      ],
      "metadata": {
        "id": "FFxx19nkQi46"
      },
      "execution_count": null,
      "outputs": []
    },
    {
      "cell_type": "markdown",
      "source": [
        "## Increment / Decrement"
      ],
      "metadata": {
        "id": "kRaWiGtiQlCH"
      }
    },
    {
      "cell_type": "code",
      "source": [
        "var year = 2019\n",
        "year++   // 2020\n",
        "year--   // 2019"
      ],
      "metadata": {
        "id": "kkyLgl_WQoS4"
      },
      "execution_count": null,
      "outputs": []
    },
    {
      "cell_type": "markdown",
      "source": [
        "## Math library"
      ],
      "metadata": {
        "id": "l_eUrshsQr3u"
      }
    },
    {
      "cell_type": "code",
      "source": [
        "Math.pow(2.0, 3.0)    // 8.0\n",
        "Math.min(6, 9)          // 6\n",
        "Math.max(10, 12)        // 12\n",
        "Math.round(13.7)        // 14"
      ],
      "metadata": {
        "id": "xqP5ReGtQtpc"
      },
      "execution_count": null,
      "outputs": []
    },
    {
      "cell_type": "markdown",
      "source": [
        "# Conditional Expressions"
      ],
      "metadata": {
        "id": "gSlP5ZSjQy42"
      }
    },
    {
      "cell_type": "markdown",
      "source": [
        "## If expression"
      ],
      "metadata": {
        "id": "xqo1DVTnQ3el"
      }
    },
    {
      "cell_type": "code",
      "source": [
        "var morning = true\n",
        "\n",
        "if (morning) {\n",
        "  println(\"Rise and shine!\")\n",
        "}\n",
        "// Print: Rise and shine!"
      ],
      "metadata": {
        "id": "rgzGK1YMQ5q9"
      },
      "execution_count": null,
      "outputs": []
    },
    {
      "cell_type": "markdown",
      "source": [
        "## Else expression"
      ],
      "metadata": {
        "id": "_iDXSVyAQ8--"
      }
    },
    {
      "cell_type": "code",
      "source": [
        "var rained = false\n",
        "\n",
        "if (rained) {\n",
        "  println(\"No need to water the plants today.\")\n",
        "} else {\n",
        "  println(\"The plant needs to be watered!\")\n",
        "}\n",
        "// print: The plant needs watering!"
      ],
      "metadata": {
        "id": "lMShTf8tRABT"
      },
      "execution_count": null,
      "outputs": []
    },
    {
      "cell_type": "markdown",
      "source": [
        "## Else-If chain"
      ],
      "metadata": {
        "id": "aREck1R2RD7m"
      }
    },
    {
      "cell_type": "code",
      "source": [
        "var age = 65\n",
        "\n",
        "if (age < 18) {\n",
        "  println(\"You are considered a minor\")\n",
        "} else if (age < 60) {\n",
        "  println(\"You are considered an adult\")\n",
        "} else {\n",
        "  println(\"You are considered senior\")\n",
        "}\n",
        "// print: You are considered senior"
      ],
      "metadata": {
        "id": "bObPZegyRGgh"
      },
      "execution_count": null,
      "outputs": []
    },
    {
      "cell_type": "markdown",
      "source": [
        "## Comparison operators"
      ],
      "metadata": {
        "id": "W8jtT-F7RJ6W"
      }
    },
    {
      "cell_type": "code",
      "source": [
        "var myAge = 19\n",
        "var sisterAge = 11\n",
        "var cousinAge = 11\n",
        "\n",
        "myAge > sisterAge   // true\n",
        "myAge < cousinAge   // false\n",
        "myAge >= cousinAge  // true\n",
        "myAge <= sisterAge  // false"
      ],
      "metadata": {
        "id": "XuiLVACYRMtk"
      },
      "execution_count": null,
      "outputs": []
    },
    {
      "cell_type": "markdown",
      "source": [
        "## Logical operators"
      ],
      "metadata": {
        "id": "phNc9IiiRPms"
      }
    },
    {
      "cell_type": "code",
      "source": [
        "var humid   = true\n",
        "var raining = true\n",
        "var jacket  = false\n",
        "\n",
        "println(!humid)           // false\n",
        "println(jacket && raining)\n",
        "// print: true? (if both are true)\n",
        "println(humid || raining)\n",
        "// print: true"
      ],
      "metadata": {
        "id": "DZQVLP0URUSM"
      },
      "execution_count": null,
      "outputs": []
    },
    {
      "cell_type": "markdown",
      "source": [
        "## Operator summary:\n",
        "\n",
        "AND: &&\n",
        "OR: ||\n",
        "NOT: !"
      ],
      "metadata": {
        "id": "0ZY2BHlNRape"
      }
    },
    {
      "cell_type": "markdown",
      "source": [
        "## Evaluation order"
      ],
      "metadata": {
        "id": "5Qxd7HZgReuG"
      }
    },
    {
      "cell_type": "code",
      "source": [
        "!true && (false || true)  // false\n",
        "\n",
        "!false && true || false  // true"
      ],
      "metadata": {
        "id": "AFaSXH97RhoC"
      },
      "execution_count": null,
      "outputs": []
    },
    {
      "cell_type": "markdown",
      "source": [
        "Explanation: (false || true) evaluated first -> true. Then !true && true → false. In the second case: !false → true, true && true → true, then true || false → true."
      ],
      "metadata": {
        "id": "TmXNvfMGRksG"
      }
    },
    {
      "cell_type": "markdown",
      "source": [
        "## Nested conditions"
      ],
      "metadata": {
        "id": "a9s8ljIDRnyv"
      }
    },
    {
      "cell_type": "code",
      "source": [
        "var studied    = true\n",
        "var wellRested = true\n",
        "\n",
        "if (wellRested) {\n",
        "  println(\"Good luck today!\")\n",
        "  if (studied) {\n",
        "    println(\"You should prepare for the exam!\")\n",
        "  } else {\n",
        "    println(\"Spend a few hours studying before the exam!\")\n",
        "  }\n",
        "}\n",
        "// Prints: Good luck today!\n",
        "//         You should prepare for the exam!"
      ],
      "metadata": {
        "id": "sD5KI8mhR2SU"
      },
      "execution_count": null,
      "outputs": []
    },
    {
      "cell_type": "markdown",
      "source": [
        "## When expression"
      ],
      "metadata": {
        "id": "Q2ktrIx0R6Cw"
      }
    },
    {
      "cell_type": "code",
      "source": [
        "var grade = \"A\"\n",
        "\n",
        "when (grade) {\n",
        "  \"A\" -> println(\"Great job!\")\n",
        "  \"B\" -> println(\"Great job!\")\n",
        "  \"C\" -> println(\"You passed!\")\n",
        "  else -> println(\"Close! Be sure to prepare more next time!\")\n",
        "}\n",
        "// print: Great job!"
      ],
      "metadata": {
        "id": "aFo2tJaaR8j4"
      },
      "execution_count": null,
      "outputs": []
    },
    {
      "cell_type": "markdown",
      "source": [
        "## Range operator"
      ],
      "metadata": {
        "id": "QXcBPIRVR_eg"
      }
    },
    {
      "cell_type": "code",
      "source": [
        "var height = 46 // inches\n",
        "\n",
        "if (height in 1..53) {\n",
        "  println(\"Sorry, you must be at least 54 inches to ride the coaster\")\n",
        "}\n",
        "// Prints: Sorry, you must be at least 54 inches to ride the roller coaster"
      ],
      "metadata": {
        "id": "myxdZxQ2SCeq"
      },
      "execution_count": null,
      "outputs": []
    },
    {
      "cell_type": "markdown",
      "source": [
        "## Equality operators"
      ],
      "metadata": {
        "id": "kk9IyILaSLPz"
      }
    },
    {
      "cell_type": "code",
      "source": [
        "var myAge     = 22\n",
        "var sisterAge = 21\n",
        "\n",
        "myAge == sisterAge   // false\n",
        "myAge !== sisterAge  // true"
      ],
      "metadata": {
        "id": "vV4FmXqJSOaz"
      },
      "execution_count": null,
      "outputs": []
    },
    {
      "cell_type": "markdown",
      "source": [
        "# Collections"
      ],
      "metadata": {
        "id": "h8PdxNK6SRwQ"
      }
    },
    {
      "cell_type": "markdown",
      "source": [
        "##Immutable list"
      ],
      "metadata": {
        "id": "QQ6gPhFcSTrj"
      }
    },
    {
      "cell_type": "code",
      "source": [
        "var programmingLanguages = listOf(\"C#\", \"Java\", \"Kotlin\", \"Ruby\")"
      ],
      "metadata": {
        "id": "zWQIBynVSWqr"
      },
      "execution_count": null,
      "outputs": []
    },
    {
      "cell_type": "markdown",
      "source": [
        "## Mutable list"
      ],
      "metadata": {
        "id": "6mkgR-1oSaJo"
      }
    },
    {
      "cell_type": "code",
      "source": [
        "var fruits = mutableListOf(\"Orange\", \"Apple\", \"Banana\", \"Mango\")"
      ],
      "metadata": {
        "id": "ZTbi6ueHScYU"
      },
      "execution_count": null,
      "outputs": []
    },
    {
      "cell_type": "markdown",
      "source": [
        "##Access list elements"
      ],
      "metadata": {
        "id": "781C8KiVSfxo"
      }
    },
    {
      "cell_type": "code",
      "source": [
        "var cars = listOf(\"BMW\", \"Ferrari\", \"Volvo\", \"Tesla\")\n",
        "println(cars[2])  // Prints: Volvo"
      ],
      "metadata": {
        "id": "VbhME1KMSiiQ"
      },
      "execution_count": null,
      "outputs": []
    },
    {
      "cell_type": "markdown",
      "source": [
        "##Size"
      ],
      "metadata": {
        "id": "nQBXSx2nSmsH"
      }
    },
    {
      "cell_type": "code",
      "source": [
        "ar worldContinents = listOf(\"Asia\", \"Africa\", \"North America\", \"South America\", \"Antarctica\", \"Europe\", \"Australia\")\n",
        "println(worldContinents.size)  // Prints: 7"
      ],
      "metadata": {
        "id": "PyH8tVwBSo3q"
      },
      "execution_count": null,
      "outputs": []
    },
    {
      "cell_type": "markdown",
      "source": [
        "## List manipulation / contains"
      ],
      "metadata": {
        "id": "_YFp2un-Sr1O"
      }
    },
    {
      "cell_type": "code",
      "source": [
        "var seas = listOf(\"Black Sea\", \"Caribbean Sea\", \"North Sea\")\n",
        "println(seas.contains(\"North Sea\"))  // Prints: true\n",
        "seas.add(\"Baltic Sea\")  // Error: cannot write to immutable list"
      ],
      "metadata": {
        "id": "cj0WQQtESuj3"
      },
      "execution_count": null,
      "outputs": []
    },
    {
      "cell_type": "markdown",
      "source": [
        "Use mutable lists (mutableListOf) if you need to change them."
      ],
      "metadata": {
        "id": "Eb7enF5SSyDL"
      }
    },
    {
      "cell_type": "markdown",
      "source": [
        "## Immutable sets"
      ],
      "metadata": {
        "id": "VZdtyK81S1Zd"
      }
    },
    {
      "cell_type": "code",
      "source": [
        "var primaryColors = setOf(\"Red\", \"Blue\", \"Yellow\")"
      ],
      "metadata": {
        "id": "FH3Jh-pUS32E"
      },
      "execution_count": null,
      "outputs": []
    },
    {
      "cell_type": "markdown",
      "source": [
        "## Mutable sets"
      ],
      "metadata": {
        "id": "4WFiJXQdS79i"
      }
    },
    {
      "cell_type": "code",
      "source": [
        "var womenInTech = mutableSetOf(\"Ada Lovelace\", \"Grace Hopper\", \"Radia Perlman\", \"Sister Mary Kenneth Keller\")"
      ],
      "metadata": {
        "id": "xV_iM6ZzS-Yt"
      },
      "execution_count": null,
      "outputs": []
    },
    {
      "cell_type": "markdown",
      "source": [
        "## Access set elements"
      ],
      "metadata": {
        "id": "E7XTGnpwTC8p"
      }
    },
    {
      "cell_type": "code",
      "source": [
        "var companies = setOf(\"Facebook\", \"Apple\", \"Netflix\", \"Google\")\n",
        "println(companies.elementAt(3))       // Prints: Google\n",
        "println(companies.elementAtOrNull(4)) // Prints: null"
      ],
      "metadata": {
        "id": "aJXEqb4OTHWE"
      },
      "execution_count": null,
      "outputs": []
    },
    {
      "cell_type": "markdown",
      "source": [
        "## Immutable map"
      ],
      "metadata": {
        "id": "WPugV1DnTI6o"
      }
    },
    {
      "cell_type": "code",
      "source": [
        "var averageTemp = mapOf(\"winter\" to 35, \"spring\" to 60, \"summer\" to 85, \"fall\" to 55)"
      ],
      "metadata": {
        "id": "YvryoaSdTLSD"
      },
      "execution_count": null,
      "outputs": []
    },
    {
      "cell_type": "markdown",
      "source": [
        "##Mutable map"
      ],
      "metadata": {
        "id": "7uNTz52pTQQ_"
      }
    },
    {
      "cell_type": "code",
      "source": [
        "var europeanDomains = mutableMapOf(\"Germany\" to \"de\", \"Slovakia\" to \"sk\", \"Hungary\" to \"hu\", \"Norway\" to \"no\")"
      ],
      "metadata": {
        "id": "zb0lifS1TR4y"
      },
      "execution_count": null,
      "outputs": []
    },
    {
      "cell_type": "markdown",
      "source": [
        "## Retrieve keys / values"
      ],
      "metadata": {
        "id": "3N1GpBtwTZUe"
      }
    },
    {
      "cell_type": "code",
      "source": [
        "var oscarWinners = mutableMapOf(\n",
        "  \"Parasite\" to \"Bong Joon‑ho\",\n",
        "  \"Green Book\" to \"Jim Burke\",\n",
        "  \"The Shape Of Water\" to \"Guillermo del Toro\"\n",
        ")\n",
        "println(oscarWinners.keys)\n",
        "// Prints: [Parasite, Green Book, The Shape Of Water]\n",
        "\n",
        "println(oscarWinners.values)\n",
        "// Prints: [Bong Joon‑ho, Jim Burke, Guillermo del Toro]\n",
        "\n",
        "println(oscarWinners[\"Parasite\"])\n",
        "// Prints: Bong Joon‑ho"
      ],
      "metadata": {
        "id": "8cv4uujzTb02"
      },
      "execution_count": null,
      "outputs": []
    },
    {
      "cell_type": "markdown",
      "source": [
        "##Add / Remove entries"
      ],
      "metadata": {
        "id": "PVCj2ZWhTgDJ"
      }
    },
    {
      "cell_type": "code",
      "source": [
        "var worldCapitals = mutableMapOf(\n",
        "  \"United States\" to \"Washington D.C.\",\n",
        "  \"Germany\"        to \"Berlin\",\n",
        "  \"Mexico\"         to \"Mexico City\",\n",
        "  \"France\"         to \"Paris\"\n",
        ")\n",
        "worldCapitals.put(\"Brazil\", \"Brasilia\")\n",
        "println(worldCapitals)\n",
        "// Prints: {United States=Washington D.C., Germany=Berlin, Mexico=Mexico City, France=Paris, Brazil=Brasilia}\n",
        "\n",
        "worldCapitals.remove(\"Germany\")\n",
        "println(worldCapitals)\n",
        "// Prints: {United States=Washington D.C., Mexico=Mexico City, France=Paris, Brazil=Brasilia}"
      ],
      "metadata": {
        "id": "tb3ZmZTJTiIM"
      },
      "execution_count": null,
      "outputs": []
    },
    {
      "cell_type": "markdown",
      "source": [
        "# Function\n",
        "## Simple Function"
      ],
      "metadata": {
        "id": "IuUdWaAFTlbF"
      }
    },
    {
      "cell_type": "code",
      "source": [
        "fun greet() {\n",
        "  println(\"Hey there!\")\n",
        "}\n",
        "\n",
        "fun main() {\n",
        "  greet()  // Prints: Hey there!\n",
        "}"
      ],
      "metadata": {
        "id": "iIodrEaqTtTd"
      },
      "execution_count": null,
      "outputs": []
    },
    {
      "cell_type": "markdown",
      "source": [
        "##Function with parameters"
      ],
      "metadata": {
        "id": "DBOHxGVhTvys"
      }
    },
    {
      "cell_type": "code",
      "source": [
        "fun birthday(name: String, age: Int) {\n",
        "  println(\"Happy birthday $name! You turn $age today!\")\n",
        "}\n",
        "\n",
        "fun main() {\n",
        "  birthday(\"Oscar\", 26)   // Prints: Happy birthday Oscar! You turn 26 today!\n",
        "  birthday(\"Amarah\", 30)  // Prints: Happy birthday Amarah! You turn 30 today!\n",
        "}"
      ],
      "metadata": {
        "id": "3bYA0AyOTyE_"
      },
      "execution_count": null,
      "outputs": []
    },
    {
      "cell_type": "markdown",
      "source": [
        "Default parameters"
      ],
      "metadata": {
        "id": "m4cNBV16T1Ug"
      }
    },
    {
      "cell_type": "code",
      "source": [
        "fun favoriteLanguage(name: String, language: String = \"Kotlin\") {\n",
        "  println(\"Hello, $name. Your favorite programming language is $language\")\n",
        "}\n",
        "\n",
        "fun main() {\n",
        "  favoriteLanguage(\"Manon\")\n",
        "// Prints: Hello, Manon. Your favorite programming language is Kotlin\n",
        "\n",
        "  favoriteLanguage(\"Lee\", \"Java\")\n",
        "// Prints: Hello, Lee. Your favorite programming language is Java\n",
        "}"
      ],
      "metadata": {
        "id": "CpnemAbcT3pm"
      },
      "execution_count": null,
      "outputs": []
    },
    {
      "cell_type": "markdown",
      "source": [
        "##Named parameters"
      ],
      "metadata": {
        "id": "s8VVIdjiT53R"
      }
    },
    {
      "cell_type": "code",
      "source": [
        "fun findMyAge(currentYear: Int, birthYear: Int) {\n",
        "  var myAge = currentYear - birthYear\n",
        "  println(\"I am $myAge years old.\")\n",
        "}\n",
        "\n",
        "fun main() {\n",
        "  findMyAge(currentYear = 2020, birthYear = 1995)\n",
        "// Prints: I am 25 years old.\n",
        "\n",
        "  findMyAge(birthYear = 1920, currentYear = 2020)\n",
        "// Prints: I am 100 years old.\n",
        "}"
      ],
      "metadata": {
        "id": "hRoZnehhT79x"
      },
      "execution_count": null,
      "outputs": []
    },
    {
      "cell_type": "markdown",
      "source": [
        "## Return statement"
      ],
      "metadata": {
        "id": "anWXSu0LT_ye"
      }
    },
    {
      "cell_type": "code",
      "source": [
        "// return type declared after parentheses\n",
        "fun getArea(length: Int, width: Int): Int {\n",
        "  var area = length * width\n",
        "  return area\n",
        "}\n",
        "\n",
        "fun main() {\n",
        "  var myArea = getArea(10, 8)\n",
        "  println(\"The area is $myArea.\")\n",
        "  // Prints: The area is 80.\n",
        "}"
      ],
      "metadata": {
        "id": "XrGsC_UzUB7o"
      },
      "execution_count": null,
      "outputs": []
    },
    {
      "cell_type": "markdown",
      "source": [
        "## Single expression functions"
      ],
      "metadata": {
        "id": "9JEexxLfUFPX"
      }
    },
    {
      "cell_type": "code",
      "source": [
        "fun fullName(firstName: String, lastName: String) = \"$firstName $lastName\"\n",
        "\n",
        "fun main() {\n",
        "  println(fullName(\"Ariana\", \"Ortega\"))\n",
        "  // Prints: Ariana Ortega\n",
        "  println(fullName(\"Kai\", \"Gittens\"))\n",
        "  // Prints: Kai Gittens\n",
        "}"
      ],
      "metadata": {
        "id": "ES4KdlTEUHGw"
      },
      "execution_count": null,
      "outputs": []
    },
    {
      "cell_type": "markdown",
      "source": [
        "##Function literals / lambdas / anonymous functions"
      ],
      "metadata": {
        "id": "AlcIBwfYUJgX"
      }
    },
    {
      "cell_type": "code",
      "source": [
        "fun main() {\n",
        "  // Anonymous function\n",
        "  var getProduct = fun(num1: Int, num2: Int): Int {\n",
        "    return num1 * num2\n",
        "  }\n",
        "  println(getProduct(8, 3))   // Prints: 24\n",
        "\n",
        "  // Lambda expression\n",
        "  var getDifference = { num1: Int, num2: Int -> num1 - num2 }\n",
        "  println(getDifference(10, 3))  // Prints: 7\n",
        "}"
      ],
      "metadata": {
        "id": "SaO66HQ6USqd"
      },
      "execution_count": null,
      "outputs": []
    },
    {
      "cell_type": "markdown",
      "source": [
        "#Classes\n",
        "##Basic class example"
      ],
      "metadata": {
        "id": "dMSuJUipUWPK"
      }
    },
    {
      "cell_type": "code",
      "source": [
        "// class with properties and default values\n",
        "class Student {\n",
        "  var name     = \"Lucia\"\n",
        "  var semester = \"Fall\"\n",
        "  var gpa      = 3.95\n",
        "}\n",
        "\n",
        "// shorthand syntax (empty class body)\n",
        "class Student"
      ],
      "metadata": {
        "id": "IB2TnGBzUZ2D"
      },
      "execution_count": null,
      "outputs": []
    },
    {
      "cell_type": "markdown",
      "source": [
        "## Class instance"
      ],
      "metadata": {
        "id": "DVvueBwkUdZS"
      }
    },
    {
      "cell_type": "code",
      "source": [
        "class Student {\n",
        "  var name     = \"Lucia\"\n",
        "  var semester = \"Fall\"\n",
        "  var gpa      = 3.95\n",
        "}\n",
        "\n",
        "fun main() {\n",
        "  var student = Student()\n",
        "  println(student.name)       // Prints: Lucia\n",
        "  println(student.semester)   // Prints: Fall\n",
        "  println(student.gpa)        // Prints: 3.95\n",
        "}"
      ],
      "metadata": {
        "id": "fKq8kQ1NUgiA"
      },
      "execution_count": null,
      "outputs": []
    },
    {
      "cell_type": "markdown",
      "source": [
        "## Primary constructor"
      ],
      "metadata": {
        "id": "W7x_btXqUkGz"
      }
    },
    {
      "cell_type": "code",
      "source": [
        "class Student(\n",
        "  val name: String,\n",
        "  val gpa: Double,\n",
        "  val semester: String,\n",
        "  val estimatedGraduationYear: Int\n",
        ")\n",
        "\n",
        "fun main() {\n",
        "  var student = Student(\"Lucia\", 3.95, \"Fall\", 2022)\n",
        "  println(student.name)                       // Prints: Lucia\n",
        "  println(student.gpa)                        // Prints: 3.95\n",
        "  println(student.semester)                   // Prints: Fall\n",
        "  println(student.estimatedGraduationYear)    // Prints: 2022\n",
        "}"
      ],
      "metadata": {
        "id": "gQRhXp5jUl-n"
      },
      "execution_count": null,
      "outputs": []
    },
    {
      "cell_type": "markdown",
      "source": [
        "## Initialization (init) block"
      ],
      "metadata": {
        "id": "Jkj3fELTUpBh"
      }
    },
    {
      "cell_type": "code",
      "source": [
        "class Student(\n",
        "  val name: String,\n",
        "  val gpa: Double,\n",
        "  val semester: String,\n",
        "  val estimatedGraduationYear: Int\n",
        ") {\n",
        "  init {\n",
        "    println(\"$name has ${estimatedGraduationYear - 2020} years left in college.\")\n",
        "  }\n",
        "}\n",
        "\n",
        "fun main() {\n",
        "  var student = Student(\"Lucia\", 3.95, \"Fall\", 2022)\n",
        "  // Prints: Lucia has 2 years left in college.\n",
        "}"
      ],
      "metadata": {
        "id": "lSK-ZyAGUrmv"
      },
      "execution_count": null,
      "outputs": []
    },
    {
      "cell_type": "markdown",
      "source": [
        "## Member functions"
      ],
      "metadata": {
        "id": "xfWOfjBOUvPM"
      }
    },
    {
      "cell_type": "code",
      "source": [
        "class Student(\n",
        "  val name: String,\n",
        "  val gpa: Double,\n",
        "  val semester: String,\n",
        "  val estimatedGraduationYear: Int\n",
        ") {\n",
        "  init {\n",
        "    println(\"$name has ${estimatedGraduationYear - 2020} years left in college.\")\n",
        "  }\n",
        "\n",
        "  // member function\n",
        "  fun calculateLetterGrade(): String {\n",
        "    return when {\n",
        "      gpa >= 3.0 -> \"A\"\n",
        "      gpa >= 2.7 -> \"B\"\n",
        "      gpa >= 1.7 -> \"C\"\n",
        "      gpa >= 1.0 -> \"D\"\n",
        "      else       -> \"E\"\n",
        "    }\n",
        "  }\n",
        "}\n",
        "\n",
        "fun main() {\n",
        "  var student = Student(\"Lucia\", 3.95, \"Fall\", 2022)\n",
        "  // Prints: Lucia has 2 years left in college.\n",
        "  println(\"${student.name}'s letter grade is ${student.calculateLetterGrade()}.\")\n",
        "  // Prints: Lucia's letter grade is A.\n",
        "}"
      ],
      "metadata": {
        "id": "UVXVTMpfUxOn"
      },
      "execution_count": null,
      "outputs": []
    },
    {
      "cell_type": "markdown",
      "source": [
        "For more Visit :\n",
        "https://kotlinlang.org/"
      ],
      "metadata": {
        "id": "xLG_u7iTU2EJ"
      }
    },
    {
      "cell_type": "code",
      "source": [],
      "metadata": {
        "id": "4ZUKNCASU7Nz"
      },
      "execution_count": null,
      "outputs": []
    }
  ]
}